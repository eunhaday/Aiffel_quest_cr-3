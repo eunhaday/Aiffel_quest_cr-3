{
 "cells": [
  {
   "cell_type": "markdown",
   "id": "096f5f26",
   "metadata": {},
   "source": [
    "* # 붓꽃의 꽃잎, 꽃받침 길이를 사용하여 setosa, versicolor, virginica <br>세 가지 종류 중 어떤 것에 해당하는지를 확인하는 모델"
   ]
  },
  {
   "cell_type": "markdown",
   "id": "993d59e7",
   "metadata": {},
   "source": [
    "* ### 데이터셋 호출, 필요한 데이터를 변수에 저장"
   ]
  },
  {
   "cell_type": "code",
   "execution_count": 1,
   "id": "502c0695",
   "metadata": {},
   "outputs": [
    {
     "name": "stdout",
     "output_type": "stream",
     "text": [
      "['DESCR', 'data', 'data_module', 'feature_names', 'filename', 'frame', 'target', 'target_names']\n"
     ]
    }
   ],
   "source": [
    "# sklearn 라이브러리의 datasets 패키지에서 load_iris 함수를 호출 \n",
    "from sklearn.datasets import load_iris\n",
    "\n",
    "# 로드된 iris 데이터셋을 iris라는 변수에 저장\n",
    "iris = load_iris()\n",
    "\n",
    "# dir()는 객체가 어떤 변수와 메서드를 가지고 있는지 나열함\n",
    "print(dir(iris))"
   ]
  },
  {
   "cell_type": "code",
   "execution_count": 2,
   "id": "bbd67d10",
   "metadata": {},
   "outputs": [
    {
     "data": {
      "text/plain": [
       "dict_keys(['data', 'target', 'frame', 'target_names', 'DESCR', 'feature_names', 'filename', 'data_module'])"
      ]
     },
     "execution_count": 2,
     "metadata": {},
     "output_type": "execute_result"
    }
   ],
   "source": [
    "# iris 데이터셋에 담긴 정보 종류 확인\n",
    "iris.keys()"
   ]
  },
  {
   "cell_type": "code",
   "execution_count": 3,
   "id": "9eacdb8b",
   "metadata": {},
   "outputs": [
    {
     "name": "stdout",
     "output_type": "stream",
     "text": [
      "(150, 4)\n"
     ]
    }
   ],
   "source": [
    "# data를 따로 iris_data 변수에 저장\n",
    "iris_data = iris.data\n",
    "\n",
    "# shape는 배열의 형상정보를 출력\n",
    "# 150개의 데이터가 각각 4개의 정보를 담고 있음\n",
    "print(iris_data.shape) "
   ]
  },
  {
   "cell_type": "code",
   "execution_count": 4,
   "id": "1c59bdfd",
   "metadata": {},
   "outputs": [
    {
     "data": {
      "text/plain": [
       "array([5.1, 3.5, 1.4, 0.2])"
      ]
     },
     "execution_count": 4,
     "metadata": {},
     "output_type": "execute_result"
    }
   ],
   "source": [
    "# 150개의 데이터 중 첫 번째 데이터 출력 \n",
    "# 순서대로 sepal length, sepal width, petal length, petal width를 나타냄\n",
    "iris_data[0]"
   ]
  },
  {
   "cell_type": "code",
   "execution_count": 5,
   "id": "3b5f9bb4",
   "metadata": {},
   "outputs": [
    {
     "name": "stdout",
     "output_type": "stream",
     "text": [
      "(150,)\n"
     ]
    },
    {
     "data": {
      "text/plain": [
       "array([0, 0, 0, 0, 0, 0, 0, 0, 0, 0, 0, 0, 0, 0, 0, 0, 0, 0, 0, 0, 0, 0,\n",
       "       0, 0, 0, 0, 0, 0, 0, 0, 0, 0, 0, 0, 0, 0, 0, 0, 0, 0, 0, 0, 0, 0,\n",
       "       0, 0, 0, 0, 0, 0, 1, 1, 1, 1, 1, 1, 1, 1, 1, 1, 1, 1, 1, 1, 1, 1,\n",
       "       1, 1, 1, 1, 1, 1, 1, 1, 1, 1, 1, 1, 1, 1, 1, 1, 1, 1, 1, 1, 1, 1,\n",
       "       1, 1, 1, 1, 1, 1, 1, 1, 1, 1, 1, 1, 2, 2, 2, 2, 2, 2, 2, 2, 2, 2,\n",
       "       2, 2, 2, 2, 2, 2, 2, 2, 2, 2, 2, 2, 2, 2, 2, 2, 2, 2, 2, 2, 2, 2,\n",
       "       2, 2, 2, 2, 2, 2, 2, 2, 2, 2, 2, 2, 2, 2, 2, 2, 2, 2])"
      ]
     },
     "execution_count": 5,
     "metadata": {},
     "output_type": "execute_result"
    }
   ],
   "source": [
    "iris_label = iris.target\n",
    "# keys에서 확인한 정보 중 target을 따로 iris_label 변수에 저장\n",
    "\n",
    "print(iris_label.shape)\n",
    "iris_label\n",
    "# iris_data와 다르게 150개의 숫자만 가지고 있음"
   ]
  },
  {
   "cell_type": "code",
   "execution_count": 6,
   "id": "c3819f87",
   "metadata": {},
   "outputs": [
    {
     "data": {
      "text/plain": [
       "array(['setosa', 'versicolor', 'virginica'], dtype='<U10')"
      ]
     },
     "execution_count": 6,
     "metadata": {},
     "output_type": "execute_result"
    }
   ],
   "source": [
    "iris.target_names\n",
    "# keys에서 확인한 정보 중 target_names를 변수에 따로 저장하지 않고 호출\n",
    "# iris_label이 가진 0,1,2의 이름 확인"
   ]
  },
  {
   "cell_type": "markdown",
   "id": "1fb468f4",
   "metadata": {},
   "source": [
    "* ### 데이터셋을 데이터프레임 자료형으로 변환, 변수에 저장"
   ]
  },
  {
   "cell_type": "code",
   "execution_count": 7,
   "id": "5d5016d1",
   "metadata": {},
   "outputs": [
    {
     "name": "stdout",
     "output_type": "stream",
     "text": [
      "1.3.3\n"
     ]
    }
   ],
   "source": [
    "import pandas as pd\n",
    "# pandas 라이브러리를 pd라는 변수로 호출\n",
    "\n",
    "print(pd.__version__)\n",
    "# pandas의 버전 확인"
   ]
  },
  {
   "cell_type": "code",
   "execution_count": 8,
   "id": "9471db5f",
   "metadata": {},
   "outputs": [
    {
     "data": {
      "text/plain": [
       "numpy.ndarray"
      ]
     },
     "execution_count": 8,
     "metadata": {},
     "output_type": "execute_result"
    }
   ],
   "source": [
    "type(iris_data)\n",
    "# iris_data의 데이터 타입은 numpy의 ndarray인 것을 확인할 수 있음"
   ]
  },
  {
   "cell_type": "code",
   "execution_count": 9,
   "id": "20244927",
   "metadata": {},
   "outputs": [
    {
     "data": {
      "text/html": [
       "<div>\n",
       "<style scoped>\n",
       "    .dataframe tbody tr th:only-of-type {\n",
       "        vertical-align: middle;\n",
       "    }\n",
       "\n",
       "    .dataframe tbody tr th {\n",
       "        vertical-align: top;\n",
       "    }\n",
       "\n",
       "    .dataframe thead th {\n",
       "        text-align: right;\n",
       "    }\n",
       "</style>\n",
       "<table border=\"1\" class=\"dataframe\">\n",
       "  <thead>\n",
       "    <tr style=\"text-align: right;\">\n",
       "      <th></th>\n",
       "      <th>sepal length (cm)</th>\n",
       "      <th>sepal width (cm)</th>\n",
       "      <th>petal length (cm)</th>\n",
       "      <th>petal width (cm)</th>\n",
       "    </tr>\n",
       "  </thead>\n",
       "  <tbody>\n",
       "    <tr>\n",
       "      <th>0</th>\n",
       "      <td>5.1</td>\n",
       "      <td>3.5</td>\n",
       "      <td>1.4</td>\n",
       "      <td>0.2</td>\n",
       "    </tr>\n",
       "    <tr>\n",
       "      <th>1</th>\n",
       "      <td>4.9</td>\n",
       "      <td>3.0</td>\n",
       "      <td>1.4</td>\n",
       "      <td>0.2</td>\n",
       "    </tr>\n",
       "    <tr>\n",
       "      <th>2</th>\n",
       "      <td>4.7</td>\n",
       "      <td>3.2</td>\n",
       "      <td>1.3</td>\n",
       "      <td>0.2</td>\n",
       "    </tr>\n",
       "    <tr>\n",
       "      <th>3</th>\n",
       "      <td>4.6</td>\n",
       "      <td>3.1</td>\n",
       "      <td>1.5</td>\n",
       "      <td>0.2</td>\n",
       "    </tr>\n",
       "    <tr>\n",
       "      <th>4</th>\n",
       "      <td>5.0</td>\n",
       "      <td>3.6</td>\n",
       "      <td>1.4</td>\n",
       "      <td>0.2</td>\n",
       "    </tr>\n",
       "    <tr>\n",
       "      <th>...</th>\n",
       "      <td>...</td>\n",
       "      <td>...</td>\n",
       "      <td>...</td>\n",
       "      <td>...</td>\n",
       "    </tr>\n",
       "    <tr>\n",
       "      <th>145</th>\n",
       "      <td>6.7</td>\n",
       "      <td>3.0</td>\n",
       "      <td>5.2</td>\n",
       "      <td>2.3</td>\n",
       "    </tr>\n",
       "    <tr>\n",
       "      <th>146</th>\n",
       "      <td>6.3</td>\n",
       "      <td>2.5</td>\n",
       "      <td>5.0</td>\n",
       "      <td>1.9</td>\n",
       "    </tr>\n",
       "    <tr>\n",
       "      <th>147</th>\n",
       "      <td>6.5</td>\n",
       "      <td>3.0</td>\n",
       "      <td>5.2</td>\n",
       "      <td>2.0</td>\n",
       "    </tr>\n",
       "    <tr>\n",
       "      <th>148</th>\n",
       "      <td>6.2</td>\n",
       "      <td>3.4</td>\n",
       "      <td>5.4</td>\n",
       "      <td>2.3</td>\n",
       "    </tr>\n",
       "    <tr>\n",
       "      <th>149</th>\n",
       "      <td>5.9</td>\n",
       "      <td>3.0</td>\n",
       "      <td>5.1</td>\n",
       "      <td>1.8</td>\n",
       "    </tr>\n",
       "  </tbody>\n",
       "</table>\n",
       "<p>150 rows × 4 columns</p>\n",
       "</div>"
      ],
      "text/plain": [
       "     sepal length (cm)  sepal width (cm)  petal length (cm)  petal width (cm)\n",
       "0                  5.1               3.5                1.4               0.2\n",
       "1                  4.9               3.0                1.4               0.2\n",
       "2                  4.7               3.2                1.3               0.2\n",
       "3                  4.6               3.1                1.5               0.2\n",
       "4                  5.0               3.6                1.4               0.2\n",
       "..                 ...               ...                ...               ...\n",
       "145                6.7               3.0                5.2               2.3\n",
       "146                6.3               2.5                5.0               1.9\n",
       "147                6.5               3.0                5.2               2.0\n",
       "148                6.2               3.4                5.4               2.3\n",
       "149                5.9               3.0                5.1               1.8\n",
       "\n",
       "[150 rows x 4 columns]"
      ]
     },
     "execution_count": 9,
     "metadata": {},
     "output_type": "execute_result"
    }
   ],
   "source": [
    "iris_df = pd.DataFrame(data=iris_data, columns=iris.feature_names)\n",
    "# 150개 데이터가 각각 4개의 정보를 가지고 있던 iris_data를 iris.feature_names을 \n",
    "# 컬럼 이름으로 하는 DataFrame 자료형으로 변환해서 iris_df 변수에 저장\n",
    "iris_df"
   ]
  },
  {
   "cell_type": "code",
   "execution_count": 10,
   "id": "84d2d1de",
   "metadata": {},
   "outputs": [
    {
     "data": {
      "text/html": [
       "<div>\n",
       "<style scoped>\n",
       "    .dataframe tbody tr th:only-of-type {\n",
       "        vertical-align: middle;\n",
       "    }\n",
       "\n",
       "    .dataframe tbody tr th {\n",
       "        vertical-align: top;\n",
       "    }\n",
       "\n",
       "    .dataframe thead th {\n",
       "        text-align: right;\n",
       "    }\n",
       "</style>\n",
       "<table border=\"1\" class=\"dataframe\">\n",
       "  <thead>\n",
       "    <tr style=\"text-align: right;\">\n",
       "      <th></th>\n",
       "      <th>sepal length (cm)</th>\n",
       "      <th>sepal width (cm)</th>\n",
       "      <th>petal length (cm)</th>\n",
       "      <th>petal width (cm)</th>\n",
       "      <th>label</th>\n",
       "    </tr>\n",
       "  </thead>\n",
       "  <tbody>\n",
       "    <tr>\n",
       "      <th>0</th>\n",
       "      <td>5.1</td>\n",
       "      <td>3.5</td>\n",
       "      <td>1.4</td>\n",
       "      <td>0.2</td>\n",
       "      <td>0</td>\n",
       "    </tr>\n",
       "    <tr>\n",
       "      <th>1</th>\n",
       "      <td>4.9</td>\n",
       "      <td>3.0</td>\n",
       "      <td>1.4</td>\n",
       "      <td>0.2</td>\n",
       "      <td>0</td>\n",
       "    </tr>\n",
       "    <tr>\n",
       "      <th>2</th>\n",
       "      <td>4.7</td>\n",
       "      <td>3.2</td>\n",
       "      <td>1.3</td>\n",
       "      <td>0.2</td>\n",
       "      <td>0</td>\n",
       "    </tr>\n",
       "    <tr>\n",
       "      <th>3</th>\n",
       "      <td>4.6</td>\n",
       "      <td>3.1</td>\n",
       "      <td>1.5</td>\n",
       "      <td>0.2</td>\n",
       "      <td>0</td>\n",
       "    </tr>\n",
       "    <tr>\n",
       "      <th>4</th>\n",
       "      <td>5.0</td>\n",
       "      <td>3.6</td>\n",
       "      <td>1.4</td>\n",
       "      <td>0.2</td>\n",
       "      <td>0</td>\n",
       "    </tr>\n",
       "    <tr>\n",
       "      <th>...</th>\n",
       "      <td>...</td>\n",
       "      <td>...</td>\n",
       "      <td>...</td>\n",
       "      <td>...</td>\n",
       "      <td>...</td>\n",
       "    </tr>\n",
       "    <tr>\n",
       "      <th>145</th>\n",
       "      <td>6.7</td>\n",
       "      <td>3.0</td>\n",
       "      <td>5.2</td>\n",
       "      <td>2.3</td>\n",
       "      <td>2</td>\n",
       "    </tr>\n",
       "    <tr>\n",
       "      <th>146</th>\n",
       "      <td>6.3</td>\n",
       "      <td>2.5</td>\n",
       "      <td>5.0</td>\n",
       "      <td>1.9</td>\n",
       "      <td>2</td>\n",
       "    </tr>\n",
       "    <tr>\n",
       "      <th>147</th>\n",
       "      <td>6.5</td>\n",
       "      <td>3.0</td>\n",
       "      <td>5.2</td>\n",
       "      <td>2.0</td>\n",
       "      <td>2</td>\n",
       "    </tr>\n",
       "    <tr>\n",
       "      <th>148</th>\n",
       "      <td>6.2</td>\n",
       "      <td>3.4</td>\n",
       "      <td>5.4</td>\n",
       "      <td>2.3</td>\n",
       "      <td>2</td>\n",
       "    </tr>\n",
       "    <tr>\n",
       "      <th>149</th>\n",
       "      <td>5.9</td>\n",
       "      <td>3.0</td>\n",
       "      <td>5.1</td>\n",
       "      <td>1.8</td>\n",
       "      <td>2</td>\n",
       "    </tr>\n",
       "  </tbody>\n",
       "</table>\n",
       "<p>150 rows × 5 columns</p>\n",
       "</div>"
      ],
      "text/plain": [
       "     sepal length (cm)  sepal width (cm)  petal length (cm)  petal width (cm)  \\\n",
       "0                  5.1               3.5                1.4               0.2   \n",
       "1                  4.9               3.0                1.4               0.2   \n",
       "2                  4.7               3.2                1.3               0.2   \n",
       "3                  4.6               3.1                1.5               0.2   \n",
       "4                  5.0               3.6                1.4               0.2   \n",
       "..                 ...               ...                ...               ...   \n",
       "145                6.7               3.0                5.2               2.3   \n",
       "146                6.3               2.5                5.0               1.9   \n",
       "147                6.5               3.0                5.2               2.0   \n",
       "148                6.2               3.4                5.4               2.3   \n",
       "149                5.9               3.0                5.1               1.8   \n",
       "\n",
       "     label  \n",
       "0        0  \n",
       "1        0  \n",
       "2        0  \n",
       "3        0  \n",
       "4        0  \n",
       "..     ...  \n",
       "145      2  \n",
       "146      2  \n",
       "147      2  \n",
       "148      2  \n",
       "149      2  \n",
       "\n",
       "[150 rows x 5 columns]"
      ]
     },
     "execution_count": 10,
     "metadata": {},
     "output_type": "execute_result"
    }
   ],
   "source": [
    "iris_df[\"label\"] = iris.target\n",
    "# iris_df에 label이라는 컬럼을 새로 추가\n",
    "# 150개의 숫자로 이루어져 있었던 iris.target을 label 컬럼에 채워넣기\n",
    "iris_df"
   ]
  },
  {
   "cell_type": "markdown",
   "id": "8b9e6368",
   "metadata": {},
   "source": [
    "* ### 데이터셋을 각각 학습(training)과 성능 평가(test)에 사용할 데이터셋으로 분리 "
   ]
  },
  {
   "cell_type": "code",
   "execution_count": 11,
   "id": "ec2aad70",
   "metadata": {},
   "outputs": [
    {
     "name": "stdout",
     "output_type": "stream",
     "text": [
      "X_train 개수:  120 , X_test 개수:  30\n"
     ]
    }
   ],
   "source": [
    "from sklearn.model_selection import train_test_split\n",
    "# sklearn model_selection패키지의 train_test_split 함수를 호출\n",
    "\n",
    "X_train, X_test, y_train, y_test = train_test_split(iris_data, \n",
    "                                                    iris_label, \n",
    "                                                    test_size=0.2, \n",
    "                                                    random_state=7)\n",
    "# 나눠야 할 데이터(문제지, X): iris_data\n",
    "# 데이터의 라벨(정답, y): iris_label\n",
    "# iris_data와 iris_label를 각각 train:test = 8:2의 비율로 \n",
    "# 분리한 후 X_train, X_test, y_train, y_test에 저장\n",
    "\n",
    "\n",
    "print('X_train 개수: ', len(X_train),', X_test 개수: ', len(X_test))\n",
    "# len은 배열의 길이를 출력"
   ]
  },
  {
   "cell_type": "code",
   "execution_count": 12,
   "id": "9e8611c1",
   "metadata": {},
   "outputs": [
    {
     "data": {
      "text/plain": [
       "((120, 4), (120,))"
      ]
     },
     "execution_count": 12,
     "metadata": {},
     "output_type": "execute_result"
    }
   ],
   "source": [
    "X_train.shape, y_train.shape\n",
    "# train의 구성 정보 확인"
   ]
  },
  {
   "cell_type": "code",
   "execution_count": 13,
   "id": "30f74218",
   "metadata": {},
   "outputs": [
    {
     "data": {
      "text/plain": [
       "((30, 4), (30,))"
      ]
     },
     "execution_count": 13,
     "metadata": {},
     "output_type": "execute_result"
    }
   ],
   "source": [
    "X_test.shape, y_test.shape\n",
    "# test의 구성 정보 확인"
   ]
  },
  {
   "cell_type": "code",
   "execution_count": 14,
   "id": "fbcb61c2",
   "metadata": {},
   "outputs": [
    {
     "data": {
      "text/plain": [
       "(array([2, 1, 0, 2, 1, 0, 0, 0, 0, 2, 2, 1, 2, 2, 1, 0, 1, 1, 2, 0, 0, 0,\n",
       "        2, 0, 2, 1, 1, 1, 0, 0, 0, 1, 2, 1, 1, 0, 2, 0, 0, 2, 2, 0, 2, 0,\n",
       "        1, 2, 1, 0, 1, 0, 2, 2, 1, 0, 0, 1, 2, 0, 2, 2, 1, 0, 1, 0, 2, 2,\n",
       "        0, 0, 2, 1, 2, 2, 1, 0, 0, 2, 0, 0, 1, 2, 2, 1, 1, 0, 2, 0, 0, 1,\n",
       "        1, 2, 0, 1, 1, 2, 2, 1, 2, 0, 1, 1, 0, 0, 0, 1, 1, 0, 2, 2, 1, 2,\n",
       "        0, 2, 1, 1, 0, 2, 1, 2, 1, 0]),\n",
       " array([2, 1, 0, 1, 2, 0, 1, 1, 0, 1, 1, 1, 0, 2, 0, 1, 2, 2, 0, 0, 1, 2,\n",
       "        1, 2, 2, 2, 1, 1, 2, 2]))"
      ]
     },
     "execution_count": 14,
     "metadata": {},
     "output_type": "execute_result"
    }
   ],
   "source": [
    "y_train, y_test\n",
    "# label이 잘 분리되었는지 확인"
   ]
  },
  {
   "cell_type": "markdown",
   "id": "bc2e3835",
   "metadata": {},
   "source": [
    "* ### 머신러닝 모델 Decision Tree(의사결정트리 모델) 호출, 학습"
   ]
  },
  {
   "cell_type": "code",
   "execution_count": 15,
   "id": "893f3a1e",
   "metadata": {},
   "outputs": [
    {
     "name": "stdout",
     "output_type": "stream",
     "text": [
      "classifier\n"
     ]
    }
   ],
   "source": [
    "from sklearn.tree import DecisionTreeClassifier \n",
    "# sklearn.tree 패키지에서 의사결정트리 모델 호출\n",
    "\n",
    "decision_tree = DecisionTreeClassifier(random_state=32) \n",
    "# random_state : 재현가능하도록 난수의 초기값 32로 설정\n",
    "print(decision_tree._estimator_type)"
   ]
  },
  {
   "cell_type": "code",
   "execution_count": 16,
   "id": "57d0eebb",
   "metadata": {},
   "outputs": [
    {
     "data": {
      "text/plain": [
       "DecisionTreeClassifier(random_state=32)"
      ]
     },
     "execution_count": 16,
     "metadata": {},
     "output_type": "execute_result"
    }
   ],
   "source": [
    "# 학습데이터 X_train, y_train을 의사결정나무 모델로 학습\n",
    "decision_tree.fit(X_train, y_train)"
   ]
  },
  {
   "cell_type": "code",
   "execution_count": 17,
   "id": "685fe261",
   "metadata": {},
   "outputs": [
    {
     "data": {
      "text/plain": [
       "array([2, 1, 0, 1, 2, 0, 1, 1, 0, 1, 2, 1, 0, 2, 0, 2, 2, 2, 0, 0, 1, 2,\n",
       "       1, 1, 2, 2, 1, 1, 2, 2])"
      ]
     },
     "execution_count": 17,
     "metadata": {},
     "output_type": "execute_result"
    }
   ],
   "source": [
    "# 테스트 데이터 X_test로 예측\n",
    "y_pred = decision_tree.predict(X_test)\n",
    "y_pred"
   ]
  },
  {
   "cell_type": "code",
   "execution_count": 18,
   "id": "e87678b7",
   "metadata": {},
   "outputs": [
    {
     "data": {
      "text/plain": [
       "array([2, 1, 0, 1, 2, 0, 1, 1, 0, 1, 1, 1, 0, 2, 0, 1, 2, 2, 0, 0, 1, 2,\n",
       "       1, 2, 2, 2, 1, 1, 2, 2])"
      ]
     },
     "execution_count": 18,
     "metadata": {},
     "output_type": "execute_result"
    }
   ],
   "source": [
    "# 진짜 정답\n",
    "y_test"
   ]
  },
  {
   "cell_type": "code",
   "execution_count": 19,
   "id": "d203dba2",
   "metadata": {},
   "outputs": [
    {
     "data": {
      "text/plain": [
       "0.9"
      ]
     },
     "execution_count": 19,
     "metadata": {},
     "output_type": "execute_result"
    }
   ],
   "source": [
    "# 실제 정답 y_test과 예측값 y_pred 비교하여 정확도 측정\n",
    "from sklearn.metrics import accuracy_score\n",
    "\n",
    "accuracy = accuracy_score(y_test, y_pred)\n",
    "accuracy"
   ]
  },
  {
   "cell_type": "markdown",
   "id": "1e4d1642",
   "metadata": {},
   "source": [
    "* ### 위에서 사용했던 Desicion 모델을 학습, 예측하는 과정을 간략화"
   ]
  },
  {
   "cell_type": "code",
   "execution_count": 20,
   "id": "a71f9612",
   "metadata": {},
   "outputs": [
    {
     "name": "stdout",
     "output_type": "stream",
     "text": [
      "              precision    recall  f1-score   support\n",
      "\n",
      "           0       1.00      1.00      1.00         7\n",
      "           1       0.91      0.83      0.87        12\n",
      "           2       0.83      0.91      0.87        11\n",
      "\n",
      "    accuracy                           0.90        30\n",
      "   macro avg       0.91      0.91      0.91        30\n",
      "weighted avg       0.90      0.90      0.90        30\n",
      "\n"
     ]
    }
   ],
   "source": [
    "# (1) 필요한 모듈 import\n",
    "from sklearn.datasets import load_iris #iris 데이터셋을 불러오는 코드\n",
    "from sklearn.model_selection import train_test_split # 데이터를 train과 test dataset으로 나누어주는 함수 호출\n",
    "from sklearn.tree import DecisionTreeClassifier # 의사결정트리 분류기를 사용하기 위해 불러오는 코드\n",
    "from sklearn.metrics import classification_report # 분류 결과에 대한 시각화를 위해 쓰는 코드\n",
    "\n",
    "# (2) 데이터 준비\n",
    "iris = load_iris() #iris 데이터를 변수에 저장\n",
    "iris_data = iris.data #iris 데이터의 data 컬럼을 분류, iris_data 변수에 저장\n",
    "iris_label = iris.target #iris 데이터의 target컬럼을 분류, iris_label 변수에 저장\n",
    "\n",
    "# (3) train, test 데이터 분리\n",
    "#train_test_split()를 사용하여 X값, y값을 각각 train data와 test data로 나눔. 함수의 파라미터로 x,y가 들어가고\n",
    "#test_size는 몇대몇으로 나눌지 정하는 옵션, random_state는 랜덤 패턴의 값을 지정함(어떤 값을 넣어도 무방)\n",
    "X_train, X_test, y_train, y_test = train_test_split(iris_data, \n",
    "                                                    iris_label, \n",
    "                                                    test_size=0.2, \n",
    "                                                    random_state=7) \n",
    " \n",
    "\n",
    "# (4) 모델 학습 및 예측\n",
    "decision_tree = DecisionTreeClassifier(random_state=32) # 의사결정트리 분류기를 변수에 저장\n",
    "decision_tree.fit(X_train, y_train) # 분류기에 x와 y의 훈련 데이터를 넣어 훈련시킴\n",
    "y_pred = decision_tree.predict(X_test) # 훈련된 분류기에 X_test라는 테스트 데이터셋을 넣어 얼마나 예측했는지 확인\n",
    "\n",
    "print(classification_report(y_test, y_pred)) # 결과를 지표로 확인하기 위해 classification_report 활용, y_test, y_pred 값을 넣어 확인"
   ]
  },
  {
   "cell_type": "markdown",
   "id": "d89b3e08",
   "metadata": {},
   "source": [
    "* ### precicion(정밀도), recall(재현율), f1-score(정밀도와 재현율의 균형), support(클래스에 해당하는 데이터 개수)"
   ]
  },
  {
   "cell_type": "markdown",
   "id": "4d8f278b",
   "metadata": {},
   "source": [
    "* ### 머신러닝 모델 Random Forest호출, 학습\n",
    "* ### Random Forest 모델은 Desicion Tree 모델 여러 개를 모아 놓은 것"
   ]
  },
  {
   "cell_type": "code",
   "execution_count": 21,
   "id": "46cb5754",
   "metadata": {},
   "outputs": [
    {
     "name": "stdout",
     "output_type": "stream",
     "text": [
      "              precision    recall  f1-score   support\n",
      "\n",
      "           0       1.00      1.00      1.00        11\n",
      "           1       1.00      0.83      0.91        12\n",
      "           2       0.78      1.00      0.88         7\n",
      "\n",
      "    accuracy                           0.93        30\n",
      "   macro avg       0.93      0.94      0.93        30\n",
      "weighted avg       0.95      0.93      0.93        30\n",
      "\n"
     ]
    }
   ],
   "source": [
    "from sklearn.ensemble import RandomForestClassifier #랜덤포레스트 분류기를 사용하기 위해 호출\n",
    "\n",
    "X_train, X_test, y_train, y_test = train_test_split(iris_data, # iris 데이터의 data 컬럼\n",
    "                                                    iris_label, # iris 데이터의 target 컬럼\n",
    "                                                    test_size=0.2, # train data와 test data를 몇대몇으로 나눌지 정하는 옵션\n",
    "                                                    random_state=21) # 랜덤 패턴의 값을 지정\n",
    "\n",
    "random_forest = RandomForestClassifier(random_state=32) # 랜덤포레스트 분류기를 변수에 저장\n",
    "random_forest.fit(X_train, y_train) # 훈련\n",
    "y_pred = random_forest.predict(X_test) # 예측\n",
    "\n",
    "print(classification_report(y_test, y_pred)) # 결과 지표 확인"
   ]
  },
  {
   "cell_type": "markdown",
   "id": "bac332a0",
   "metadata": {},
   "source": [
    "* ### precicion(정밀도), recall(재현율), f1-score(정밀도와 재현율의 균형), support(클래스에 해당하는 데이터 개수)"
   ]
  },
  {
   "cell_type": "markdown",
   "id": "02ea899a",
   "metadata": {},
   "source": [
    "* ### 머신러닝 모델 SVM(Support Vector Machine) 호출, 학습\n",
    "* ### 데이터를 두 개의 그룹으로 나누기 위해 최대한 멀리 떨어진 경계선을 찾는 모델"
   ]
  },
  {
   "cell_type": "code",
   "execution_count": 22,
   "id": "66619e98",
   "metadata": {},
   "outputs": [
    {
     "name": "stdout",
     "output_type": "stream",
     "text": [
      "classifier\n"
     ]
    }
   ],
   "source": [
    "from sklearn import svm # Support Vector Machine을 사용하기 위해 호출\n",
    "svm_model = svm.SVC() # 모델을 변수에 저장\n",
    "\n",
    "print(svm_model._estimator_type) # 모델 타입 확인"
   ]
  },
  {
   "cell_type": "code",
   "execution_count": 23,
   "id": "91d96ae7",
   "metadata": {},
   "outputs": [
    {
     "name": "stdout",
     "output_type": "stream",
     "text": [
      "              precision    recall  f1-score   support\n",
      "\n",
      "           0       1.00      1.00      1.00        11\n",
      "           1       0.91      0.83      0.87        12\n",
      "           2       0.75      0.86      0.80         7\n",
      "\n",
      "    accuracy                           0.90        30\n",
      "   macro avg       0.89      0.90      0.89        30\n",
      "weighted avg       0.91      0.90      0.90        30\n",
      "\n"
     ]
    }
   ],
   "source": [
    "svm_model.fit(X_train, y_train)\n",
    "y_pred = svm_model.predict(X_test)\n",
    "print(classification_report(y_test, y_pred))"
   ]
  },
  {
   "cell_type": "markdown",
   "id": "cd5d764a",
   "metadata": {},
   "source": [
    "* ### precicion(정밀도), recall(재현율), f1-score(정밀도와 재현율의 균형), support(클래스에 해당하는 데이터 개수)"
   ]
  },
  {
   "cell_type": "markdown",
   "id": "5a88be56",
   "metadata": {},
   "source": [
    "* ### 머신러닝 모델 SGD Classifier 호출, 학습\n",
    "* ### 데이터를 빠르게 여러 번 확인 후 예측을 개선하면서 학습하는 모델, 조금씩 업데이트"
   ]
  },
  {
   "cell_type": "code",
   "execution_count": 24,
   "id": "19cc5aea",
   "metadata": {},
   "outputs": [
    {
     "name": "stdout",
     "output_type": "stream",
     "text": [
      "classifier\n"
     ]
    }
   ],
   "source": [
    "from sklearn.linear_model import SGDClassifier # 선형분류기 SGDClassifier을 사용하기 위해 호출\n",
    "sgd_model = SGDClassifier() # 모델을 변수에 저장\n",
    "\n",
    "print(sgd_model._estimator_type) # 모델 타입 확인"
   ]
  },
  {
   "cell_type": "code",
   "execution_count": 25,
   "id": "e90adb8a",
   "metadata": {},
   "outputs": [
    {
     "name": "stdout",
     "output_type": "stream",
     "text": [
      "              precision    recall  f1-score   support\n",
      "\n",
      "           0       1.00      1.00      1.00        11\n",
      "           1       1.00      0.75      0.86        12\n",
      "           2       0.70      1.00      0.82         7\n",
      "\n",
      "    accuracy                           0.90        30\n",
      "   macro avg       0.90      0.92      0.89        30\n",
      "weighted avg       0.93      0.90      0.90        30\n",
      "\n"
     ]
    }
   ],
   "source": [
    "sgd_model.fit(X_train, y_train) # .fit()을 사용해서 훈련\n",
    "y_pred = sgd_model.predict(X_test) # 모델에 test 데이터를 사용하여 예측\n",
    "print(classification_report(y_test, y_pred)) # 결과 지표 확인"
   ]
  },
  {
   "cell_type": "markdown",
   "id": "fbc2487f",
   "metadata": {},
   "source": [
    "* ### precicion(정밀도), recall(재현율), f1-score(정밀도와 재현율의 균형), support(클래스에 해당하는 데이터 개수)"
   ]
  },
  {
   "cell_type": "markdown",
   "id": "b5f0f3bb",
   "metadata": {},
   "source": [
    "* ### 머신러닝 모델  Logistic Regression 호출, 학습\n",
    "* ### 데이터를 0과 1 같은 두 가지 결과로 나누는 모델, 입력 값에 따라 확률 계산 후 어느 쪽에 속할지 예측"
   ]
  },
  {
   "cell_type": "code",
   "execution_count": 26,
   "id": "b6f7c75e",
   "metadata": {},
   "outputs": [
    {
     "name": "stdout",
     "output_type": "stream",
     "text": [
      "classifier\n"
     ]
    }
   ],
   "source": [
    "from sklearn.linear_model import LogisticRegression # 선형분류기 LogisticRegression을 사용하기 위해 호출\n",
    "logistic_model = LogisticRegression() # 모델을 변수에 저장\n",
    "\n",
    "print(logistic_model._estimator_type) # 모델 타입 확인"
   ]
  },
  {
   "cell_type": "code",
   "execution_count": 27,
   "id": "2aaf9657",
   "metadata": {},
   "outputs": [
    {
     "name": "stdout",
     "output_type": "stream",
     "text": [
      "              precision    recall  f1-score   support\n",
      "\n",
      "           0       1.00      1.00      1.00        11\n",
      "           1       1.00      0.83      0.91        12\n",
      "           2       0.78      1.00      0.88         7\n",
      "\n",
      "    accuracy                           0.93        30\n",
      "   macro avg       0.93      0.94      0.93        30\n",
      "weighted avg       0.95      0.93      0.93        30\n",
      "\n"
     ]
    }
   ],
   "source": [
    "logistic_model.fit(X_train, y_train)\n",
    "y_pred = logistic_model.predict(X_test)\n",
    "print(classification_report(y_test, y_pred))"
   ]
  },
  {
   "cell_type": "markdown",
   "id": "31ac8608",
   "metadata": {},
   "source": [
    "* ### precicion(정밀도), recall(재현율), f1-score(정밀도와 재현율의 균형), support(클래스에 해당하는 데이터 개수)"
   ]
  }
 ],
 "metadata": {
  "kernelspec": {
   "display_name": "Python 3 (ipykernel)",
   "language": "python",
   "name": "python3"
  },
  "language_info": {
   "codemirror_mode": {
    "name": "ipython",
    "version": 3
   },
   "file_extension": ".py",
   "mimetype": "text/x-python",
   "name": "python",
   "nbconvert_exporter": "python",
   "pygments_lexer": "ipython3",
   "version": "3.9.7"
  }
 },
 "nbformat": 4,
 "nbformat_minor": 5
}
