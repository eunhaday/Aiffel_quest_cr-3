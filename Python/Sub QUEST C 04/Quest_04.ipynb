{
  "nbformat": 4,
  "nbformat_minor": 0,
  "metadata": {
    "colab": {
      "provenance": [],
      "include_colab_link": true
    },
    "kernelspec": {
      "name": "python3",
      "display_name": "Python 3"
    },
    "language_info": {
      "name": "python"
    }
  },
  "cells": [
    {
      "cell_type": "markdown",
      "metadata": {
        "id": "view-in-github",
        "colab_type": "text"
      },
      "source": [
        "<a href=\"https://colab.research.google.com/github/rumelay/Aiffel_quest_cr/blob/main/Quest_04.ipynb\" target=\"_parent\"><img src=\"https://colab.research.google.com/assets/colab-badge.svg\" alt=\"Open In Colab\"/></a>"
      ]
    },
    {
      "cell_type": "code",
      "execution_count": 15,
      "metadata": {
        "id": "24qT0087sz9_",
        "colab": {
          "base_uri": "https://localhost:8080/"
        },
        "outputId": "08e0bbb8-109c-4179-db46-ecbb78088419"
      },
      "outputs": [
        {
          "output_type": "stream",
          "name": "stdout",
          "text": [
            "정수를 입력해 주세요(1번) : 1\n",
            "정수를 입력해 주세요(2번) : 3\n",
            "연산자를 입력해 주세요(+, -, *, /, **) : **\n",
            "계산 결과는 1 ** 3 = 1.0\n",
            "계속 계산하시겠습니까? (네/아니요) : 아니요\n",
            "계산을 종료합니다.\n"
          ]
        }
      ],
      "source": [
        "import math # 조건. math 모듈을 사용하여 제곱 연산(**)을 지원할 것\n",
        "\n",
        "\n",
        "def quest():\n",
        "  try:# 예외 처리, try - except 구문 사용\n",
        "    a = int(input('정수를 입력해 주세요(1번) : ')) # 사용자가 입력한 정수 1\n",
        "    b = int(input('정수를 입력해 주세요(2번) : ')) # 사용자가 입력한 정수 2\n",
        "    c = input('연산자를 입력해 주세요(+, -, *, /, **) : ') # 사용자가 입력한 연산자\n",
        "\n",
        "    if c == '+': # 입력된 연산자가 +면\n",
        "      result = a + b # + 연산 결과 출력\n",
        "    elif c == '-': # 입력된 연산자가 -면\n",
        "      result = a - b # - 연산 결과 출력\n",
        "    elif c == '*': # 입력된 연산자가 *면\n",
        "      result = a * b    # * 연산 결과 출력\n",
        "    elif c == '/': # 입력된 연산자가 /면\n",
        "      result = a / b   # / 연산 결과 출력\n",
        "      if b == 0:\n",
        "        raise ZeroDivisionError('0으로 연산할 수 없습니다.') # 조건. 사용자가 입력한 두번째 정수가 0인 경우 ZeroDivisionError 처리\n",
        "    elif c == '**': # 입력된 연산자가 **면\n",
        "      result = math.pow(a, b)   # 조건. ** 연산 출력\n",
        "    else:\n",
        "      raise ValueError('지원하지 않는 연산자입니다.') # 조건. 지원하지 않는 연산자 입력 시 적절한 오류 메세지 출력\n",
        "\n",
        "    print(f'계산 결과는 {a} {c} {b} = {result}') # 사용자가 입력한 정수 1, 연산자, 정수 2와 연산 결과 출력, f-string 사용\n",
        "\n",
        "\n",
        "  # ValueError와 ZeroDivisionError를 변수에 바인딩하지 않고 그냥 적었을 때\n",
        "  # 출력 내용이 <class '에러 이름'>으로 표시되는 문제가 발생했었습니다.\n",
        "  # 예외 내용을 출력하고자 하면 예외 객체를 변수에 바인딩해야 합니다.\n",
        "\n",
        "  except ValueError as Value: # ValueError(예외)가 발생했을 때 실행할 내용, ValueError를 Value로 지정\n",
        "    print(f'잘못된 입력입니다. 정수를 입력해 주세요 : {Value}') # 조건. 정수가 입력될 때까지 해당 내용 출력, f-string 사용\n",
        "  except ZeroDivisionError as Zero: # ZeroDivisionError(예외)가 발생했을 때 실행할 내용, ZeroDivisionError를 Zero로 지정\n",
        "    print(Zero) # 사용자가 입력한 두번째 정수가 0인 경우 발생하는 오류 출력\n",
        "\n",
        "# 계속 계산을 할 것인지 입력받는 방법을 검색한 내용을 참고했습니다.\n",
        "\n",
        "def loop(): # quest() 함수를 반복적으로 호출하는 함수\n",
        "  while True: # 종료 조건 없이 계속 반복, break 사용 전까지 무한하게 실행\n",
        "    quest()\n",
        "    word = input('계속 계산하시겠습니까? (네/아니요) : ') # 조건. 계산기를 통해 계속 계산을 할 것인지 입력받습니다.\n",
        "    if word != '네': # !=는 같지 않으면\n",
        "      print('계산을 종료합니다.')\n",
        "      break # while 루프 종료\n",
        "\n",
        "loop()\n",
        "\n",
        "\n",
        "\n",
        "\n",
        "\n",
        "\n",
        "\n",
        "\n",
        "\n",
        "\n",
        "\n",
        "\n",
        "\n",
        "\n",
        "\n"
      ]
    },
    {
      "cell_type": "markdown",
      "source": [
        "# 회고\n",
        "\n",
        "신상호:\n",
        "* 이번 퀘스트를 통하여 계산기를 만드는 코드를 복습할 수 있었고 else와\n",
        "* finally를 사용해서 함수 하나로 끝내는 방법도 있었을 것 같은데\n",
        "* 전부 활용하지 못해 조금 아쉬움이 남았습니다.  \n",
        "\n",
        "\n",
        "고은비:\n",
        "* 간단한 계산기 만드는 퀘스트였는데, 어제 학습한 노드의 내용을\n",
        "* 다시 한 번 상기시킬 수 있었다. 조금 더 연습이 필요할 듯 하다.\n",
        "* 그리고 try - except - finally 를 사용해보려고 하였으나, finally 에서\n",
        "* 조건문 사용할 수 있을지 모르겠어서 try - excpet 로만 사용하였다.  "
      ],
      "metadata": {
        "id": "rP_nynhWEhqU"
      }
    },
    {
      "cell_type": "code",
      "source": [],
      "metadata": {
        "id": "PtpfON1B7pof"
      },
      "execution_count": null,
      "outputs": []
    }
  ]
}
